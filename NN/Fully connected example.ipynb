{
 "cells": [
  {
   "cell_type": "markdown",
   "metadata": {},
   "source": [
    "Load libraries"
   ]
  },
  {
   "cell_type": "code",
   "execution_count": 14,
   "metadata": {},
   "outputs": [],
   "source": [
    "library(tensorflow)\n",
    "library(EBImage)"
   ]
  },
  {
   "cell_type": "markdown",
   "metadata": {},
   "source": [
    "Read in and plot the data"
   ]
  },
  {
   "cell_type": "code",
   "execution_count": 9,
   "metadata": {},
   "outputs": [
    {
     "data": {
      "text/html": [
       "<table>\n",
       "<thead><tr><th scope=col>V1</th><th scope=col>V2</th><th scope=col>V3</th><th scope=col>V4</th><th scope=col>V5</th></tr></thead>\n",
       "<tbody>\n",
       "\t<tr><td>5.1</td><td>3.5</td><td>1.4</td><td>0.2</td><td>1  </td></tr>\n",
       "\t<tr><td>4.9</td><td>3.0</td><td>1.4</td><td>0.2</td><td>1  </td></tr>\n",
       "\t<tr><td>4.7</td><td>3.2</td><td>1.3</td><td>0.2</td><td>1  </td></tr>\n",
       "\t<tr><td>4.6</td><td>3.1</td><td>1.5</td><td>0.2</td><td>1  </td></tr>\n",
       "\t<tr><td>5.0</td><td>3.6</td><td>1.4</td><td>0.2</td><td>1  </td></tr>\n",
       "\t<tr><td>5.4</td><td>3.9</td><td>1.7</td><td>0.4</td><td>1  </td></tr>\n",
       "\t<tr><td>4.6</td><td>3.4</td><td>1.4</td><td>0.3</td><td>1  </td></tr>\n",
       "\t<tr><td>5.0</td><td>3.4</td><td>1.5</td><td>0.2</td><td>1  </td></tr>\n",
       "\t<tr><td>4.4</td><td>2.9</td><td>1.4</td><td>0.2</td><td>1  </td></tr>\n",
       "\t<tr><td>4.9</td><td>3.1</td><td>1.5</td><td>0.1</td><td>1  </td></tr>\n",
       "\t<tr><td>5.4</td><td>3.7</td><td>1.5</td><td>0.2</td><td>1  </td></tr>\n",
       "\t<tr><td>4.8</td><td>3.4</td><td>1.6</td><td>0.2</td><td>1  </td></tr>\n",
       "\t<tr><td>4.8</td><td>3.0</td><td>1.4</td><td>0.1</td><td>1  </td></tr>\n",
       "\t<tr><td>4.3</td><td>3.0</td><td>1.1</td><td>0.1</td><td>1  </td></tr>\n",
       "\t<tr><td>5.8</td><td>4.0</td><td>1.2</td><td>0.2</td><td>1  </td></tr>\n",
       "\t<tr><td>5.7</td><td>4.4</td><td>1.5</td><td>0.4</td><td>1  </td></tr>\n",
       "\t<tr><td>5.4</td><td>3.9</td><td>1.3</td><td>0.4</td><td>1  </td></tr>\n",
       "\t<tr><td>5.1</td><td>3.5</td><td>1.4</td><td>0.3</td><td>1  </td></tr>\n",
       "\t<tr><td>5.7</td><td>3.8</td><td>1.7</td><td>0.3</td><td>1  </td></tr>\n",
       "\t<tr><td>5.1</td><td>3.8</td><td>1.5</td><td>0.3</td><td>1  </td></tr>\n",
       "\t<tr><td>5.4</td><td>3.4</td><td>1.7</td><td>0.2</td><td>1  </td></tr>\n",
       "\t<tr><td>5.1</td><td>3.7</td><td>1.5</td><td>0.4</td><td>1  </td></tr>\n",
       "\t<tr><td>4.6</td><td>3.6</td><td>1.0</td><td>0.2</td><td>1  </td></tr>\n",
       "\t<tr><td>5.1</td><td>3.3</td><td>1.7</td><td>0.5</td><td>1  </td></tr>\n",
       "\t<tr><td>4.8</td><td>3.4</td><td>1.9</td><td>0.2</td><td>1  </td></tr>\n",
       "\t<tr><td>5.0</td><td>3.0</td><td>1.6</td><td>0.2</td><td>1  </td></tr>\n",
       "\t<tr><td>5.0</td><td>3.4</td><td>1.6</td><td>0.4</td><td>1  </td></tr>\n",
       "\t<tr><td>5.2</td><td>3.5</td><td>1.5</td><td>0.2</td><td>1  </td></tr>\n",
       "\t<tr><td>5.2</td><td>3.4</td><td>1.4</td><td>0.2</td><td>1  </td></tr>\n",
       "\t<tr><td>4.7</td><td>3.2</td><td>1.6</td><td>0.2</td><td>1  </td></tr>\n",
       "\t<tr><td>⋮</td><td>⋮</td><td>⋮</td><td>⋮</td><td>⋮</td></tr>\n",
       "\t<tr><td>6.9</td><td>3.2</td><td>5.7</td><td>2.3</td><td>3  </td></tr>\n",
       "\t<tr><td>5.6</td><td>2.8</td><td>4.9</td><td>2.0</td><td>3  </td></tr>\n",
       "\t<tr><td>7.7</td><td>2.8</td><td>6.7</td><td>2.0</td><td>3  </td></tr>\n",
       "\t<tr><td>6.3</td><td>2.7</td><td>4.9</td><td>1.8</td><td>3  </td></tr>\n",
       "\t<tr><td>6.7</td><td>3.3</td><td>5.7</td><td>2.1</td><td>3  </td></tr>\n",
       "\t<tr><td>7.2</td><td>3.2</td><td>6.0</td><td>1.8</td><td>3  </td></tr>\n",
       "\t<tr><td>6.2</td><td>2.8</td><td>4.8</td><td>1.8</td><td>3  </td></tr>\n",
       "\t<tr><td>6.1</td><td>3.0</td><td>4.9</td><td>1.8</td><td>3  </td></tr>\n",
       "\t<tr><td>6.4</td><td>2.8</td><td>5.6</td><td>2.1</td><td>3  </td></tr>\n",
       "\t<tr><td>7.2</td><td>3.0</td><td>5.8</td><td>1.6</td><td>3  </td></tr>\n",
       "\t<tr><td>7.4</td><td>2.8</td><td>6.1</td><td>1.9</td><td>3  </td></tr>\n",
       "\t<tr><td>7.9</td><td>3.8</td><td>6.4</td><td>2.0</td><td>3  </td></tr>\n",
       "\t<tr><td>6.4</td><td>2.8</td><td>5.6</td><td>2.2</td><td>3  </td></tr>\n",
       "\t<tr><td>6.3</td><td>2.8</td><td>5.1</td><td>1.5</td><td>3  </td></tr>\n",
       "\t<tr><td>6.1</td><td>2.6</td><td>5.6</td><td>1.4</td><td>3  </td></tr>\n",
       "\t<tr><td>7.7</td><td>3.0</td><td>6.1</td><td>2.3</td><td>3  </td></tr>\n",
       "\t<tr><td>6.3</td><td>3.4</td><td>5.6</td><td>2.4</td><td>3  </td></tr>\n",
       "\t<tr><td>6.4</td><td>3.1</td><td>5.5</td><td>1.8</td><td>3  </td></tr>\n",
       "\t<tr><td>6.0</td><td>3.0</td><td>4.8</td><td>1.8</td><td>3  </td></tr>\n",
       "\t<tr><td>6.9</td><td>3.1</td><td>5.4</td><td>2.1</td><td>3  </td></tr>\n",
       "\t<tr><td>6.7</td><td>3.1</td><td>5.6</td><td>2.4</td><td>3  </td></tr>\n",
       "\t<tr><td>6.9</td><td>3.1</td><td>5.1</td><td>2.3</td><td>3  </td></tr>\n",
       "\t<tr><td>5.8</td><td>2.7</td><td>5.1</td><td>1.9</td><td>3  </td></tr>\n",
       "\t<tr><td>6.8</td><td>3.2</td><td>5.9</td><td>2.3</td><td>3  </td></tr>\n",
       "\t<tr><td>6.7</td><td>3.3</td><td>5.7</td><td>2.5</td><td>3  </td></tr>\n",
       "\t<tr><td>6.7</td><td>3.0</td><td>5.2</td><td>2.3</td><td>3  </td></tr>\n",
       "\t<tr><td>6.3</td><td>2.5</td><td>5.0</td><td>1.9</td><td>3  </td></tr>\n",
       "\t<tr><td>6.5</td><td>3.0</td><td>5.2</td><td>2.0</td><td>3  </td></tr>\n",
       "\t<tr><td>6.2</td><td>3.4</td><td>5.4</td><td>2.3</td><td>3  </td></tr>\n",
       "\t<tr><td>5.9</td><td>3.0</td><td>5.1</td><td>1.8</td><td>3  </td></tr>\n",
       "</tbody>\n",
       "</table>\n"
      ],
      "text/latex": [
       "\\begin{tabular}{r|lllll}\n",
       " V1 & V2 & V3 & V4 & V5\\\\\n",
       "\\hline\n",
       "\t 5.1 & 3.5 & 1.4 & 0.2 & 1  \\\\\n",
       "\t 4.9 & 3.0 & 1.4 & 0.2 & 1  \\\\\n",
       "\t 4.7 & 3.2 & 1.3 & 0.2 & 1  \\\\\n",
       "\t 4.6 & 3.1 & 1.5 & 0.2 & 1  \\\\\n",
       "\t 5.0 & 3.6 & 1.4 & 0.2 & 1  \\\\\n",
       "\t 5.4 & 3.9 & 1.7 & 0.4 & 1  \\\\\n",
       "\t 4.6 & 3.4 & 1.4 & 0.3 & 1  \\\\\n",
       "\t 5.0 & 3.4 & 1.5 & 0.2 & 1  \\\\\n",
       "\t 4.4 & 2.9 & 1.4 & 0.2 & 1  \\\\\n",
       "\t 4.9 & 3.1 & 1.5 & 0.1 & 1  \\\\\n",
       "\t 5.4 & 3.7 & 1.5 & 0.2 & 1  \\\\\n",
       "\t 4.8 & 3.4 & 1.6 & 0.2 & 1  \\\\\n",
       "\t 4.8 & 3.0 & 1.4 & 0.1 & 1  \\\\\n",
       "\t 4.3 & 3.0 & 1.1 & 0.1 & 1  \\\\\n",
       "\t 5.8 & 4.0 & 1.2 & 0.2 & 1  \\\\\n",
       "\t 5.7 & 4.4 & 1.5 & 0.4 & 1  \\\\\n",
       "\t 5.4 & 3.9 & 1.3 & 0.4 & 1  \\\\\n",
       "\t 5.1 & 3.5 & 1.4 & 0.3 & 1  \\\\\n",
       "\t 5.7 & 3.8 & 1.7 & 0.3 & 1  \\\\\n",
       "\t 5.1 & 3.8 & 1.5 & 0.3 & 1  \\\\\n",
       "\t 5.4 & 3.4 & 1.7 & 0.2 & 1  \\\\\n",
       "\t 5.1 & 3.7 & 1.5 & 0.4 & 1  \\\\\n",
       "\t 4.6 & 3.6 & 1.0 & 0.2 & 1  \\\\\n",
       "\t 5.1 & 3.3 & 1.7 & 0.5 & 1  \\\\\n",
       "\t 4.8 & 3.4 & 1.9 & 0.2 & 1  \\\\\n",
       "\t 5.0 & 3.0 & 1.6 & 0.2 & 1  \\\\\n",
       "\t 5.0 & 3.4 & 1.6 & 0.4 & 1  \\\\\n",
       "\t 5.2 & 3.5 & 1.5 & 0.2 & 1  \\\\\n",
       "\t 5.2 & 3.4 & 1.4 & 0.2 & 1  \\\\\n",
       "\t 4.7 & 3.2 & 1.6 & 0.2 & 1  \\\\\n",
       "\t ⋮ & ⋮ & ⋮ & ⋮ & ⋮\\\\\n",
       "\t 6.9 & 3.2 & 5.7 & 2.3 & 3  \\\\\n",
       "\t 5.6 & 2.8 & 4.9 & 2.0 & 3  \\\\\n",
       "\t 7.7 & 2.8 & 6.7 & 2.0 & 3  \\\\\n",
       "\t 6.3 & 2.7 & 4.9 & 1.8 & 3  \\\\\n",
       "\t 6.7 & 3.3 & 5.7 & 2.1 & 3  \\\\\n",
       "\t 7.2 & 3.2 & 6.0 & 1.8 & 3  \\\\\n",
       "\t 6.2 & 2.8 & 4.8 & 1.8 & 3  \\\\\n",
       "\t 6.1 & 3.0 & 4.9 & 1.8 & 3  \\\\\n",
       "\t 6.4 & 2.8 & 5.6 & 2.1 & 3  \\\\\n",
       "\t 7.2 & 3.0 & 5.8 & 1.6 & 3  \\\\\n",
       "\t 7.4 & 2.8 & 6.1 & 1.9 & 3  \\\\\n",
       "\t 7.9 & 3.8 & 6.4 & 2.0 & 3  \\\\\n",
       "\t 6.4 & 2.8 & 5.6 & 2.2 & 3  \\\\\n",
       "\t 6.3 & 2.8 & 5.1 & 1.5 & 3  \\\\\n",
       "\t 6.1 & 2.6 & 5.6 & 1.4 & 3  \\\\\n",
       "\t 7.7 & 3.0 & 6.1 & 2.3 & 3  \\\\\n",
       "\t 6.3 & 3.4 & 5.6 & 2.4 & 3  \\\\\n",
       "\t 6.4 & 3.1 & 5.5 & 1.8 & 3  \\\\\n",
       "\t 6.0 & 3.0 & 4.8 & 1.8 & 3  \\\\\n",
       "\t 6.9 & 3.1 & 5.4 & 2.1 & 3  \\\\\n",
       "\t 6.7 & 3.1 & 5.6 & 2.4 & 3  \\\\\n",
       "\t 6.9 & 3.1 & 5.1 & 2.3 & 3  \\\\\n",
       "\t 5.8 & 2.7 & 5.1 & 1.9 & 3  \\\\\n",
       "\t 6.8 & 3.2 & 5.9 & 2.3 & 3  \\\\\n",
       "\t 6.7 & 3.3 & 5.7 & 2.5 & 3  \\\\\n",
       "\t 6.7 & 3.0 & 5.2 & 2.3 & 3  \\\\\n",
       "\t 6.3 & 2.5 & 5.0 & 1.9 & 3  \\\\\n",
       "\t 6.5 & 3.0 & 5.2 & 2.0 & 3  \\\\\n",
       "\t 6.2 & 3.4 & 5.4 & 2.3 & 3  \\\\\n",
       "\t 5.9 & 3.0 & 5.1 & 1.8 & 3  \\\\\n",
       "\\end{tabular}\n"
      ],
      "text/markdown": [
       "\n",
       "V1 | V2 | V3 | V4 | V5 | \n",
       "|---|---|---|---|---|---|---|---|---|---|---|---|---|---|---|---|---|---|---|---|---|---|---|---|---|---|---|---|---|---|---|---|---|---|---|---|---|---|---|---|---|---|---|---|---|---|---|---|---|---|---|---|---|---|---|---|---|---|---|---|---|\n",
       "| 5.1 | 3.5 | 1.4 | 0.2 | 1   | \n",
       "| 4.9 | 3.0 | 1.4 | 0.2 | 1   | \n",
       "| 4.7 | 3.2 | 1.3 | 0.2 | 1   | \n",
       "| 4.6 | 3.1 | 1.5 | 0.2 | 1   | \n",
       "| 5.0 | 3.6 | 1.4 | 0.2 | 1   | \n",
       "| 5.4 | 3.9 | 1.7 | 0.4 | 1   | \n",
       "| 4.6 | 3.4 | 1.4 | 0.3 | 1   | \n",
       "| 5.0 | 3.4 | 1.5 | 0.2 | 1   | \n",
       "| 4.4 | 2.9 | 1.4 | 0.2 | 1   | \n",
       "| 4.9 | 3.1 | 1.5 | 0.1 | 1   | \n",
       "| 5.4 | 3.7 | 1.5 | 0.2 | 1   | \n",
       "| 4.8 | 3.4 | 1.6 | 0.2 | 1   | \n",
       "| 4.8 | 3.0 | 1.4 | 0.1 | 1   | \n",
       "| 4.3 | 3.0 | 1.1 | 0.1 | 1   | \n",
       "| 5.8 | 4.0 | 1.2 | 0.2 | 1   | \n",
       "| 5.7 | 4.4 | 1.5 | 0.4 | 1   | \n",
       "| 5.4 | 3.9 | 1.3 | 0.4 | 1   | \n",
       "| 5.1 | 3.5 | 1.4 | 0.3 | 1   | \n",
       "| 5.7 | 3.8 | 1.7 | 0.3 | 1   | \n",
       "| 5.1 | 3.8 | 1.5 | 0.3 | 1   | \n",
       "| 5.4 | 3.4 | 1.7 | 0.2 | 1   | \n",
       "| 5.1 | 3.7 | 1.5 | 0.4 | 1   | \n",
       "| 4.6 | 3.6 | 1.0 | 0.2 | 1   | \n",
       "| 5.1 | 3.3 | 1.7 | 0.5 | 1   | \n",
       "| 4.8 | 3.4 | 1.9 | 0.2 | 1   | \n",
       "| 5.0 | 3.0 | 1.6 | 0.2 | 1   | \n",
       "| 5.0 | 3.4 | 1.6 | 0.4 | 1   | \n",
       "| 5.2 | 3.5 | 1.5 | 0.2 | 1   | \n",
       "| 5.2 | 3.4 | 1.4 | 0.2 | 1   | \n",
       "| 4.7 | 3.2 | 1.6 | 0.2 | 1   | \n",
       "| ⋮ | ⋮ | ⋮ | ⋮ | ⋮ | \n",
       "| 6.9 | 3.2 | 5.7 | 2.3 | 3   | \n",
       "| 5.6 | 2.8 | 4.9 | 2.0 | 3   | \n",
       "| 7.7 | 2.8 | 6.7 | 2.0 | 3   | \n",
       "| 6.3 | 2.7 | 4.9 | 1.8 | 3   | \n",
       "| 6.7 | 3.3 | 5.7 | 2.1 | 3   | \n",
       "| 7.2 | 3.2 | 6.0 | 1.8 | 3   | \n",
       "| 6.2 | 2.8 | 4.8 | 1.8 | 3   | \n",
       "| 6.1 | 3.0 | 4.9 | 1.8 | 3   | \n",
       "| 6.4 | 2.8 | 5.6 | 2.1 | 3   | \n",
       "| 7.2 | 3.0 | 5.8 | 1.6 | 3   | \n",
       "| 7.4 | 2.8 | 6.1 | 1.9 | 3   | \n",
       "| 7.9 | 3.8 | 6.4 | 2.0 | 3   | \n",
       "| 6.4 | 2.8 | 5.6 | 2.2 | 3   | \n",
       "| 6.3 | 2.8 | 5.1 | 1.5 | 3   | \n",
       "| 6.1 | 2.6 | 5.6 | 1.4 | 3   | \n",
       "| 7.7 | 3.0 | 6.1 | 2.3 | 3   | \n",
       "| 6.3 | 3.4 | 5.6 | 2.4 | 3   | \n",
       "| 6.4 | 3.1 | 5.5 | 1.8 | 3   | \n",
       "| 6.0 | 3.0 | 4.8 | 1.8 | 3   | \n",
       "| 6.9 | 3.1 | 5.4 | 2.1 | 3   | \n",
       "| 6.7 | 3.1 | 5.6 | 2.4 | 3   | \n",
       "| 6.9 | 3.1 | 5.1 | 2.3 | 3   | \n",
       "| 5.8 | 2.7 | 5.1 | 1.9 | 3   | \n",
       "| 6.8 | 3.2 | 5.9 | 2.3 | 3   | \n",
       "| 6.7 | 3.3 | 5.7 | 2.5 | 3   | \n",
       "| 6.7 | 3.0 | 5.2 | 2.3 | 3   | \n",
       "| 6.3 | 2.5 | 5.0 | 1.9 | 3   | \n",
       "| 6.5 | 3.0 | 5.2 | 2.0 | 3   | \n",
       "| 6.2 | 3.4 | 5.4 | 2.3 | 3   | \n",
       "| 5.9 | 3.0 | 5.1 | 1.8 | 3   | \n",
       "\n",
       "\n"
      ],
      "text/plain": [
       "    V1  V2  V3  V4  V5\n",
       "1   5.1 3.5 1.4 0.2 1 \n",
       "2   4.9 3.0 1.4 0.2 1 \n",
       "3   4.7 3.2 1.3 0.2 1 \n",
       "4   4.6 3.1 1.5 0.2 1 \n",
       "5   5.0 3.6 1.4 0.2 1 \n",
       "6   5.4 3.9 1.7 0.4 1 \n",
       "7   4.6 3.4 1.4 0.3 1 \n",
       "8   5.0 3.4 1.5 0.2 1 \n",
       "9   4.4 2.9 1.4 0.2 1 \n",
       "10  4.9 3.1 1.5 0.1 1 \n",
       "11  5.4 3.7 1.5 0.2 1 \n",
       "12  4.8 3.4 1.6 0.2 1 \n",
       "13  4.8 3.0 1.4 0.1 1 \n",
       "14  4.3 3.0 1.1 0.1 1 \n",
       "15  5.8 4.0 1.2 0.2 1 \n",
       "16  5.7 4.4 1.5 0.4 1 \n",
       "17  5.4 3.9 1.3 0.4 1 \n",
       "18  5.1 3.5 1.4 0.3 1 \n",
       "19  5.7 3.8 1.7 0.3 1 \n",
       "20  5.1 3.8 1.5 0.3 1 \n",
       "21  5.4 3.4 1.7 0.2 1 \n",
       "22  5.1 3.7 1.5 0.4 1 \n",
       "23  4.6 3.6 1.0 0.2 1 \n",
       "24  5.1 3.3 1.7 0.5 1 \n",
       "25  4.8 3.4 1.9 0.2 1 \n",
       "26  5.0 3.0 1.6 0.2 1 \n",
       "27  5.0 3.4 1.6 0.4 1 \n",
       "28  5.2 3.5 1.5 0.2 1 \n",
       "29  5.2 3.4 1.4 0.2 1 \n",
       "30  4.7 3.2 1.6 0.2 1 \n",
       "⋮   ⋮   ⋮   ⋮   ⋮   ⋮ \n",
       "121 6.9 3.2 5.7 2.3 3 \n",
       "122 5.6 2.8 4.9 2.0 3 \n",
       "123 7.7 2.8 6.7 2.0 3 \n",
       "124 6.3 2.7 4.9 1.8 3 \n",
       "125 6.7 3.3 5.7 2.1 3 \n",
       "126 7.2 3.2 6.0 1.8 3 \n",
       "127 6.2 2.8 4.8 1.8 3 \n",
       "128 6.1 3.0 4.9 1.8 3 \n",
       "129 6.4 2.8 5.6 2.1 3 \n",
       "130 7.2 3.0 5.8 1.6 3 \n",
       "131 7.4 2.8 6.1 1.9 3 \n",
       "132 7.9 3.8 6.4 2.0 3 \n",
       "133 6.4 2.8 5.6 2.2 3 \n",
       "134 6.3 2.8 5.1 1.5 3 \n",
       "135 6.1 2.6 5.6 1.4 3 \n",
       "136 7.7 3.0 6.1 2.3 3 \n",
       "137 6.3 3.4 5.6 2.4 3 \n",
       "138 6.4 3.1 5.5 1.8 3 \n",
       "139 6.0 3.0 4.8 1.8 3 \n",
       "140 6.9 3.1 5.4 2.1 3 \n",
       "141 6.7 3.1 5.6 2.4 3 \n",
       "142 6.9 3.1 5.1 2.3 3 \n",
       "143 5.8 2.7 5.1 1.9 3 \n",
       "144 6.8 3.2 5.9 2.3 3 \n",
       "145 6.7 3.3 5.7 2.5 3 \n",
       "146 6.7 3.0 5.2 2.3 3 \n",
       "147 6.3 2.5 5.0 1.9 3 \n",
       "148 6.5 3.0 5.2 2.0 3 \n",
       "149 6.2 3.4 5.4 2.3 3 \n",
       "150 5.9 3.0 5.1 1.8 3 "
      ]
     },
     "metadata": {},
     "output_type": "display_data"
    }
   ],
   "source": [
    "data = read.table('data', sep = ',')\n",
    "data[,5] = as.numeric(as.factor(data[,5]))\n",
    "\n",
    "data"
   ]
  },
  {
   "cell_type": "markdown",
   "metadata": {},
   "source": [
    "split training and testing set"
   ]
  },
  {
   "cell_type": "code",
   "execution_count": 11,
   "metadata": {},
   "outputs": [],
   "source": [
    "split = sample(x =  c(1:nrow(data)), size = round(0.8*nrow(data)) )\n",
    "train = data[split,]\n",
    "test = data[-split,]      "
   ]
  },
  {
   "cell_type": "markdown",
   "metadata": {},
   "source": [
    "Set parameters"
   ]
  },
  {
   "cell_type": "code",
   "execution_count": 38,
   "metadata": {},
   "outputs": [],
   "source": [
    "clas = as.integer(3)#number of classes\n",
    "out = 0.5 #dropout\n",
    "ds = 0.999 #gradient descent\n",
    "lr = 1e-5 #learningrate\n",
    "length = as.integer(4)"
   ]
  },
  {
   "cell_type": "markdown",
   "metadata": {},
   "source": [
    "Define placeholders"
   ]
  },
  {
   "cell_type": "code",
   "execution_count": 15,
   "metadata": {},
   "outputs": [],
   "source": [
    "x <- tf$placeholder(tf$float32, shape(NULL, length), 'x')\n",
    "#target values\n",
    "labels <- tf$placeholder(tf$int64, shape(NULL), 'labels')\n",
    "#dropout rate\n",
    "keep_prob <- tf$placeholder(tf$float32, shape(),'keep_prob')\n",
    "#learningrate\n",
    "lrate <- tf$placeholder(tf$float32, shape(), 'lrate')"
   ]
  },
  {
   "cell_type": "markdown",
   "metadata": {},
   "source": [
    "Define variables"
   ]
  },
  {
   "cell_type": "code",
   "execution_count": 16,
   "metadata": {},
   "outputs": [],
   "source": [
    "w_fc1 <- tf$Variable( tf$truncated_normal(shape(length, 5L ), stddev=0.1), 'w_fc1')\n",
    "b_fc1 <- tf$Variable( tf$truncated_normal(shape(5L), stddev=0.1), 'b_fc1')\n",
    "\n",
    "w_fc2 <- tf$Variable( tf$truncated_normal(shape(5L, 5L), stddev=0.1), 'w_output')\n",
    "b_fc2 <- tf$Variable( tf$truncated_normal(shape(5L), stddev=0.1), 'b_output')\n",
    "\n",
    "w_fc3 <- tf$Variable( tf$truncated_normal(shape(5L, clas), stddev=0.1), 'w_output')\n",
    "b_fc3 <- tf$Variable( tf$truncated_normal(shape(clas), stddev=0.1), 'b_output')"
   ]
  },
  {
   "cell_type": "markdown",
   "metadata": {},
   "source": [
    "Define Network"
   ]
  },
  {
   "cell_type": "code",
   "execution_count": 24,
   "metadata": {},
   "outputs": [],
   "source": [
    "h_fc1 <- tf$nn$relu(tf$matmul(x, w_fc1) + b_fc1)\n",
    "h_fc1_drop <- tf$nn$dropout(h_fc1, keep_prob)\n",
    "h_fc2 <- tf$nn$relu(tf$matmul(h_fc1_drop, w_fc2) + b_fc2)\n",
    "h_fc2_drop <- tf$nn$dropout(h_fc2, keep_prob)\n",
    "h_fc3 <- tf$nn$relu(tf$matmul(h_fc2_drop, w_fc3) + b_fc3)\n",
    "h_output <- tf$nn$softmax(h_fc3)"
   ]
  },
  {
   "cell_type": "markdown",
   "metadata": {},
   "source": [
    "Define cost"
   ]
  },
  {
   "cell_type": "code",
   "execution_count": 25,
   "metadata": {},
   "outputs": [],
   "source": [
    "cost = tf$nn$sigmoid_cross_entropy_with_logits( logits = h_output, labels = tf$one_hot(labels, clas))"
   ]
  },
  {
   "cell_type": "markdown",
   "metadata": {},
   "source": [
    "Define optimizer"
   ]
  },
  {
   "cell_type": "code",
   "execution_count": 26,
   "metadata": {},
   "outputs": [],
   "source": [
    "train_step <- tf$train$AdamOptimizer(lrate)$minimize(cost)"
   ]
  },
  {
   "cell_type": "markdown",
   "metadata": {},
   "source": [
    "Define some variables to print along the way"
   ]
  },
  {
   "cell_type": "code",
   "execution_count": 27,
   "metadata": {},
   "outputs": [],
   "source": [
    "correct_prediction <- tf$equal(tf$argmax(h_output, 1L),labels)\n",
    "accuracy <- tf$reduce_mean(tf$cast(correct_prediction, tf$float32))"
   ]
  },
  {
   "cell_type": "markdown",
   "metadata": {},
   "source": [
    "Define the session"
   ]
  },
  {
   "cell_type": "code",
   "execution_count": 28,
   "metadata": {},
   "outputs": [],
   "source": [
    "sess <- tf$InteractiveSession()\n",
    "sess$run(tf$global_variables_initializer())"
   ]
  },
  {
   "cell_type": "markdown",
   "metadata": {},
   "source": [
    "Train the network"
   ]
  },
  {
   "cell_type": "code",
   "execution_count": 40,
   "metadata": {},
   "outputs": [],
   "source": [
    "for (i in 1:2000) {\n",
    "  \n",
    "  batch_input = as.matrix(train[,1:4])\n",
    "batch_labels = as.vector(train[,5])\n",
    "  #train met gradient descent\n",
    "  sess$run(train_step, feed_dict = dict(x = batch_input , labels = batch_labels , keep_prob = out, lrate = ds^i*lr))\n",
    "  \n",
    "  \n",
    "  \n",
    "  \n",
    "  \n",
    "  #valideer om de 100 keer hoe het gaat op de testset\n",
    "  if (i %% 100 == 0) {\n",
    "    \n",
    "    batch_input = as.matrix(test[,1:4])\n",
    "batch_labels = as.vector(test[,5])\n",
    "  #train met gradient descent\n",
    "  \n",
    "  #train met gradient descent\n",
    " test_accuracy =  sess$run(accuracy, feed_dict = dict(x = batch_input , labels = batch_labels , keep_prob = 1))\n",
    "  \n",
    "  \n",
    "    print( paste(\"step:\", i, \"test accuracy:\", test_accuracy) )    \n",
    "  }\n",
    "  \n",
    "  \n",
    "\n",
    "  \n",
    "  \n",
    "  \n",
    "\n",
    "}\n"
   ]
  },
  {
   "cell_type": "code",
   "execution_count": null,
   "metadata": {},
   "outputs": [],
   "source": []
  }
 ],
 "metadata": {
  "kernelspec": {
   "display_name": "R",
   "language": "R",
   "name": "ir"
  },
  "language_info": {
   "codemirror_mode": "r",
   "file_extension": ".r",
   "mimetype": "text/x-r-source",
   "name": "R",
   "pygments_lexer": "r",
   "version": "3.4.3"
  }
 },
 "nbformat": 4,
 "nbformat_minor": 2
}
